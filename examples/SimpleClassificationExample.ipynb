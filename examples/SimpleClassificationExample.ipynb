{
 "nbformat": 4,
 "nbformat_minor": 0,
 "metadata": {
  "colab": {
   "name": "SimpleClassificationExample.ipynb",
   "provenance": [],
   "collapsed_sections": [],
   "authorship_tag": "ABX9TyM6ETeRp1fueKmqvt4ODzaQ"
  },
  "kernelspec": {
   "name": "python3",
   "display_name": "Python 3"
  },
  "language_info": {
   "name": "python"
  }
 },
 "cells": [
  {
   "cell_type": "markdown",
   "metadata": {
    "id": "6tyi5bcCjgWH"
   },
   "source": [
    "# Simple Classification Example"
   ]
  },
  {
   "cell_type": "markdown",
   "metadata": {
    "id": "6Rvq4RUOjov5"
   },
   "source": [
    "## Install _SeqRep_ package"
   ]
  },
  {
   "cell_type": "code",
   "metadata": {
    "id": "A1s0Dz-5jZNx",
    "colab": {
     "base_uri": "https://localhost:8080/"
    },
    "executionInfo": {
     "status": "ok",
     "timestamp": 1634982071448,
     "user_tz": -120,
     "elapsed": 4137,
     "user": {
      "displayName": "Jakub Ryšavý",
      "photoUrl": "https://lh3.googleusercontent.com/a/default-user=s64",
      "userId": "02810881337712816514"
     }
    },
    "outputId": "91c26901-8d0c-45ca-c30c-0dd299b0c0f8"
   },
   "source": [
    "!python -m pip install git+https://github.com/MIR-MU/seqrep"
   ],
   "execution_count": 1,
   "outputs": [
    {
     "output_type": "stream",
     "name": "stdout",
     "text": [
      "Collecting git+https://github.com/MIR-MU/seqrep\n",
      "  Cloning https://github.com/MIR-MU/seqrep to /tmp/pip-req-build-1qjc3l5i\n",
      "  Running command git clone -q https://github.com/MIR-MU/seqrep /tmp/pip-req-build-1qjc3l5i\n",
      "Requirement already satisfied: pandas in /usr/local/lib/python3.7/dist-packages (from seqrep==0.0.0) (1.1.5)\n",
      "Requirement already satisfied: pytz>=2017.2 in /usr/local/lib/python3.7/dist-packages (from pandas->seqrep==0.0.0) (2018.9)\n",
      "Requirement already satisfied: numpy>=1.15.4 in /usr/local/lib/python3.7/dist-packages (from pandas->seqrep==0.0.0) (1.19.5)\n",
      "Requirement already satisfied: python-dateutil>=2.7.3 in /usr/local/lib/python3.7/dist-packages (from pandas->seqrep==0.0.0) (2.8.2)\n",
      "Requirement already satisfied: six>=1.5 in /usr/local/lib/python3.7/dist-packages (from python-dateutil>=2.7.3->pandas->seqrep==0.0.0) (1.15.0)\n"
     ]
    }
   ]
  },
  {
   "cell_type": "markdown",
   "metadata": {
    "id": "quCXIQH-jwV8"
   },
   "source": [
    "## Import Needed Parts"
   ]
  },
  {
   "cell_type": "code",
   "metadata": {
    "colab": {
     "base_uri": "https://localhost:8080/"
    },
    "id": "647NVLcMju0O",
    "executionInfo": {
     "status": "ok",
     "timestamp": 1634982083891,
     "user_tz": -120,
     "elapsed": 12451,
     "user": {
      "displayName": "Jakub Ryšavý",
      "photoUrl": "https://lh3.googleusercontent.com/a/default-user=s64",
      "userId": "02810881337712816514"
     }
    },
    "outputId": "44d1e87b-efcb-47ae-f89a-828c75a814c7"
   },
   "source": [
    "from sklearn.pipeline import Pipeline\n",
    "from sklearn.preprocessing import MinMaxScaler\n",
    "from sklearn.svm import SVC\n",
    "\n",
    "# Required packages\n",
    "!pip install pandas_ta\n",
    "!pip install ta\n",
    "!pip install hrv-analysis\n",
    "\n",
    "from seqrep.feature_engineering import PreviousValuesExtractor, TimeFeaturesExtractor\n",
    "from seqrep.labeling import NextColorLabeler\n",
    "from seqrep.splitting import TrainTestSplitter\n",
    "from seqrep.scaling import UniversalScaler\n",
    "from seqrep.evaluation import ClassificationEvaluator\n",
    "from seqrep.pipeline_evaluation import PipelineEvaluator\n",
    "\n",
    "# Data Source\n",
    "!pip install yfinance\n",
    "import yfinance as yf"
   ],
   "execution_count": 2,
   "outputs": [
    {
     "output_type": "stream",
     "name": "stdout",
     "text": [
      "Requirement already satisfied: pandas_ta in /usr/local/lib/python3.7/dist-packages (0.3.14b0)\n",
      "Requirement already satisfied: pandas in /usr/local/lib/python3.7/dist-packages (from pandas_ta) (1.1.5)\n",
      "Requirement already satisfied: pytz>=2017.2 in /usr/local/lib/python3.7/dist-packages (from pandas->pandas_ta) (2018.9)\n",
      "Requirement already satisfied: numpy>=1.15.4 in /usr/local/lib/python3.7/dist-packages (from pandas->pandas_ta) (1.19.5)\n",
      "Requirement already satisfied: python-dateutil>=2.7.3 in /usr/local/lib/python3.7/dist-packages (from pandas->pandas_ta) (2.8.2)\n",
      "Requirement already satisfied: six>=1.5 in /usr/local/lib/python3.7/dist-packages (from python-dateutil>=2.7.3->pandas->pandas_ta) (1.15.0)\n",
      "Requirement already satisfied: ta in /usr/local/lib/python3.7/dist-packages (0.7.0)\n",
      "Requirement already satisfied: pandas in /usr/local/lib/python3.7/dist-packages (from ta) (1.1.5)\n",
      "Requirement already satisfied: numpy in /usr/local/lib/python3.7/dist-packages (from ta) (1.19.5)\n",
      "Requirement already satisfied: pytz>=2017.2 in /usr/local/lib/python3.7/dist-packages (from pandas->ta) (2018.9)\n",
      "Requirement already satisfied: python-dateutil>=2.7.3 in /usr/local/lib/python3.7/dist-packages (from pandas->ta) (2.8.2)\n",
      "Requirement already satisfied: six>=1.5 in /usr/local/lib/python3.7/dist-packages (from python-dateutil>=2.7.3->pandas->ta) (1.15.0)\n",
      "Requirement already satisfied: hrv-analysis in /usr/local/lib/python3.7/dist-packages (1.0.4)\n",
      "Requirement already satisfied: scipy>=1.1.0 in /usr/local/lib/python3.7/dist-packages (from hrv-analysis) (1.4.1)\n",
      "Requirement already satisfied: pandas>=0.23.4 in /usr/local/lib/python3.7/dist-packages (from hrv-analysis) (1.1.5)\n",
      "Requirement already satisfied: matplotlib>=2.2.2 in /usr/local/lib/python3.7/dist-packages (from hrv-analysis) (3.2.2)\n",
      "Requirement already satisfied: nolds>=0.4.1 in /usr/local/lib/python3.7/dist-packages (from hrv-analysis) (0.5.2)\n",
      "Requirement already satisfied: numpy>=1.15.1 in /usr/local/lib/python3.7/dist-packages (from hrv-analysis) (1.19.5)\n",
      "Requirement already satisfied: astropy>=3.0.4 in /usr/local/lib/python3.7/dist-packages (from hrv-analysis) (4.3.1)\n",
      "Requirement already satisfied: pyerfa>=1.7.3 in /usr/local/lib/python3.7/dist-packages (from astropy>=3.0.4->hrv-analysis) (2.0.0)\n",
      "Requirement already satisfied: importlib-metadata in /usr/local/lib/python3.7/dist-packages (from astropy>=3.0.4->hrv-analysis) (4.8.1)\n",
      "Requirement already satisfied: python-dateutil>=2.1 in /usr/local/lib/python3.7/dist-packages (from matplotlib>=2.2.2->hrv-analysis) (2.8.2)\n",
      "Requirement already satisfied: kiwisolver>=1.0.1 in /usr/local/lib/python3.7/dist-packages (from matplotlib>=2.2.2->hrv-analysis) (1.3.2)\n",
      "Requirement already satisfied: pyparsing!=2.0.4,!=2.1.2,!=2.1.6,>=2.0.1 in /usr/local/lib/python3.7/dist-packages (from matplotlib>=2.2.2->hrv-analysis) (2.4.7)\n",
      "Requirement already satisfied: cycler>=0.10 in /usr/local/lib/python3.7/dist-packages (from matplotlib>=2.2.2->hrv-analysis) (0.10.0)\n",
      "Requirement already satisfied: six in /usr/local/lib/python3.7/dist-packages (from cycler>=0.10->matplotlib>=2.2.2->hrv-analysis) (1.15.0)\n",
      "Requirement already satisfied: future in /usr/local/lib/python3.7/dist-packages (from nolds>=0.4.1->hrv-analysis) (0.16.0)\n",
      "Requirement already satisfied: setuptools in /usr/local/lib/python3.7/dist-packages (from nolds>=0.4.1->hrv-analysis) (57.4.0)\n",
      "Requirement already satisfied: pytz>=2017.2 in /usr/local/lib/python3.7/dist-packages (from pandas>=0.23.4->hrv-analysis) (2018.9)\n",
      "Requirement already satisfied: typing-extensions>=3.6.4 in /usr/local/lib/python3.7/dist-packages (from importlib-metadata->astropy>=3.0.4->hrv-analysis) (3.7.4.3)\n",
      "Requirement already satisfied: zipp>=0.5 in /usr/local/lib/python3.7/dist-packages (from importlib-metadata->astropy>=3.0.4->hrv-analysis) (3.6.0)\n",
      "Requirement already satisfied: yfinance in /usr/local/lib/python3.7/dist-packages (0.1.64)\n",
      "Requirement already satisfied: multitasking>=0.0.7 in /usr/local/lib/python3.7/dist-packages (from yfinance) (0.0.9)\n",
      "Requirement already satisfied: pandas>=0.24 in /usr/local/lib/python3.7/dist-packages (from yfinance) (1.1.5)\n",
      "Requirement already satisfied: requests>=2.20 in /usr/local/lib/python3.7/dist-packages (from yfinance) (2.23.0)\n",
      "Requirement already satisfied: lxml>=4.5.1 in /usr/local/lib/python3.7/dist-packages (from yfinance) (4.6.3)\n",
      "Requirement already satisfied: numpy>=1.15 in /usr/local/lib/python3.7/dist-packages (from yfinance) (1.19.5)\n",
      "Requirement already satisfied: python-dateutil>=2.7.3 in /usr/local/lib/python3.7/dist-packages (from pandas>=0.24->yfinance) (2.8.2)\n",
      "Requirement already satisfied: pytz>=2017.2 in /usr/local/lib/python3.7/dist-packages (from pandas>=0.24->yfinance) (2018.9)\n",
      "Requirement already satisfied: six>=1.5 in /usr/local/lib/python3.7/dist-packages (from python-dateutil>=2.7.3->pandas>=0.24->yfinance) (1.15.0)\n",
      "Requirement already satisfied: chardet<4,>=3.0.2 in /usr/local/lib/python3.7/dist-packages (from requests>=2.20->yfinance) (3.0.4)\n",
      "Requirement already satisfied: idna<3,>=2.5 in /usr/local/lib/python3.7/dist-packages (from requests>=2.20->yfinance) (2.10)\n",
      "Requirement already satisfied: urllib3!=1.25.0,!=1.25.1,<1.26,>=1.21.1 in /usr/local/lib/python3.7/dist-packages (from requests>=2.20->yfinance) (1.24.3)\n",
      "Requirement already satisfied: certifi>=2017.4.17 in /usr/local/lib/python3.7/dist-packages (from requests>=2.20->yfinance) (2021.5.30)\n"
     ]
    }
   ]
  },
  {
   "cell_type": "markdown",
   "metadata": {
    "id": "8X2kuMkQwrPw"
   },
   "source": [
    "## Load Data\n",
    "In this example, we will use the price data of *Apple shares* from *Yahoo-Finance*."
   ]
  },
  {
   "cell_type": "code",
   "metadata": {
    "colab": {
     "base_uri": "https://localhost:8080/",
     "height": 473
    },
    "id": "Pm6UVOXtjvBS",
    "executionInfo": {
     "status": "ok",
     "timestamp": 1634982084318,
     "user_tz": -120,
     "elapsed": 441,
     "user": {
      "displayName": "Jakub Ryšavý",
      "photoUrl": "https://lh3.googleusercontent.com/a/default-user=s64",
      "userId": "02810881337712816514"
     }
    },
    "outputId": "235eacf6-f1ad-4b14-bc91-78bdb6648645"
   },
   "source": [
    "data = yf.download(tickers=\"AAPL\", period=\"10000d\", interval=\"1d\")\n",
    "# column names have to be lowercase\n",
    "data.columns = data.columns.str.lower()\n",
    "data"
   ],
   "execution_count": 3,
   "outputs": [
    {
     "output_type": "stream",
     "name": "stdout",
     "text": [
      "\r[*********************100%***********************]  1 of 1 completed\n"
     ]
    },
    {
     "output_type": "execute_result",
     "data": {
      "text/html": [
       "<div>\n",
       "<style scoped>\n",
       "    .dataframe tbody tr th:only-of-type {\n",
       "        vertical-align: middle;\n",
       "    }\n",
       "\n",
       "    .dataframe tbody tr th {\n",
       "        vertical-align: top;\n",
       "    }\n",
       "\n",
       "    .dataframe thead th {\n",
       "        text-align: right;\n",
       "    }\n",
       "</style>\n",
       "<table border=\"1\" class=\"dataframe\">\n",
       "  <thead>\n",
       "    <tr style=\"text-align: right;\">\n",
       "      <th></th>\n",
       "      <th>open</th>\n",
       "      <th>high</th>\n",
       "      <th>low</th>\n",
       "      <th>close</th>\n",
       "      <th>adj close</th>\n",
       "      <th>volume</th>\n",
       "    </tr>\n",
       "    <tr>\n",
       "      <th>Date</th>\n",
       "      <th></th>\n",
       "      <th></th>\n",
       "      <th></th>\n",
       "      <th></th>\n",
       "      <th></th>\n",
       "      <th></th>\n",
       "    </tr>\n",
       "  </thead>\n",
       "  <tbody>\n",
       "    <tr>\n",
       "      <th>1982-02-26</th>\n",
       "      <td>0.081473</td>\n",
       "      <td>0.082031</td>\n",
       "      <td>0.081473</td>\n",
       "      <td>0.081473</td>\n",
       "      <td>0.063859</td>\n",
       "      <td>17427200</td>\n",
       "    </tr>\n",
       "    <tr>\n",
       "      <th>1982-03-01</th>\n",
       "      <td>0.082031</td>\n",
       "      <td>0.082589</td>\n",
       "      <td>0.082031</td>\n",
       "      <td>0.082031</td>\n",
       "      <td>0.064296</td>\n",
       "      <td>35302400</td>\n",
       "    </tr>\n",
       "    <tr>\n",
       "      <th>1982-03-02</th>\n",
       "      <td>0.082031</td>\n",
       "      <td>0.082589</td>\n",
       "      <td>0.082031</td>\n",
       "      <td>0.082031</td>\n",
       "      <td>0.064296</td>\n",
       "      <td>34809600</td>\n",
       "    </tr>\n",
       "    <tr>\n",
       "      <th>1982-03-03</th>\n",
       "      <td>0.082031</td>\n",
       "      <td>0.082589</td>\n",
       "      <td>0.082031</td>\n",
       "      <td>0.082031</td>\n",
       "      <td>0.064296</td>\n",
       "      <td>23654400</td>\n",
       "    </tr>\n",
       "    <tr>\n",
       "      <th>1982-03-04</th>\n",
       "      <td>0.080915</td>\n",
       "      <td>0.080915</td>\n",
       "      <td>0.080357</td>\n",
       "      <td>0.080357</td>\n",
       "      <td>0.062984</td>\n",
       "      <td>38371200</td>\n",
       "    </tr>\n",
       "    <tr>\n",
       "      <th>...</th>\n",
       "      <td>...</td>\n",
       "      <td>...</td>\n",
       "      <td>...</td>\n",
       "      <td>...</td>\n",
       "      <td>...</td>\n",
       "      <td>...</td>\n",
       "    </tr>\n",
       "    <tr>\n",
       "      <th>2021-10-18</th>\n",
       "      <td>143.449997</td>\n",
       "      <td>146.839996</td>\n",
       "      <td>143.160004</td>\n",
       "      <td>146.550003</td>\n",
       "      <td>146.550003</td>\n",
       "      <td>85589200</td>\n",
       "    </tr>\n",
       "    <tr>\n",
       "      <th>2021-10-19</th>\n",
       "      <td>147.009995</td>\n",
       "      <td>149.169998</td>\n",
       "      <td>146.550003</td>\n",
       "      <td>148.759995</td>\n",
       "      <td>148.759995</td>\n",
       "      <td>76378900</td>\n",
       "    </tr>\n",
       "    <tr>\n",
       "      <th>2021-10-20</th>\n",
       "      <td>148.699997</td>\n",
       "      <td>149.750000</td>\n",
       "      <td>148.119995</td>\n",
       "      <td>149.259995</td>\n",
       "      <td>149.259995</td>\n",
       "      <td>58418800</td>\n",
       "    </tr>\n",
       "    <tr>\n",
       "      <th>2021-10-21</th>\n",
       "      <td>148.809998</td>\n",
       "      <td>149.639999</td>\n",
       "      <td>147.869995</td>\n",
       "      <td>149.479996</td>\n",
       "      <td>149.479996</td>\n",
       "      <td>61421000</td>\n",
       "    </tr>\n",
       "    <tr>\n",
       "      <th>2021-10-22</th>\n",
       "      <td>149.690002</td>\n",
       "      <td>150.179993</td>\n",
       "      <td>148.639999</td>\n",
       "      <td>148.690002</td>\n",
       "      <td>148.690002</td>\n",
       "      <td>58839600</td>\n",
       "    </tr>\n",
       "  </tbody>\n",
       "</table>\n",
       "<p>10000 rows × 6 columns</p>\n",
       "</div>"
      ],
      "text/plain": [
       "                  open        high  ...   adj close    volume\n",
       "Date                                ...                      \n",
       "1982-02-26    0.081473    0.082031  ...    0.063859  17427200\n",
       "1982-03-01    0.082031    0.082589  ...    0.064296  35302400\n",
       "1982-03-02    0.082031    0.082589  ...    0.064296  34809600\n",
       "1982-03-03    0.082031    0.082589  ...    0.064296  23654400\n",
       "1982-03-04    0.080915    0.080915  ...    0.062984  38371200\n",
       "...                ...         ...  ...         ...       ...\n",
       "2021-10-18  143.449997  146.839996  ...  146.550003  85589200\n",
       "2021-10-19  147.009995  149.169998  ...  148.759995  76378900\n",
       "2021-10-20  148.699997  149.750000  ...  149.259995  58418800\n",
       "2021-10-21  148.809998  149.639999  ...  149.479996  61421000\n",
       "2021-10-22  149.690002  150.179993  ...  148.690002  58839600\n",
       "\n",
       "[10000 rows x 6 columns]"
      ]
     },
     "metadata": {},
     "execution_count": 3
    }
   ]
  },
  {
   "cell_type": "markdown",
   "metadata": {
    "id": "HeaRk1C4w0di"
   },
   "source": [
    "## Run Pipeling with Evaluation\n",
    "This is the simplest way to use this framework. Pipeline transformations are performed and then the selected model is evaluated on splitted data."
   ]
  },
  {
   "cell_type": "code",
   "metadata": {
    "colab": {
     "base_uri": "https://localhost:8080/"
    },
    "id": "aOPfsgicjvHU",
    "executionInfo": {
     "status": "ok",
     "timestamp": 1634982089063,
     "user_tz": -120,
     "elapsed": 4757,
     "user": {
      "displayName": "Jakub Ryšavý",
      "photoUrl": "https://lh3.googleusercontent.com/a/default-user=s64",
      "userId": "02810881337712816514"
     }
    },
    "outputId": "678bc201-66be-4e86-b9df-f6cef8e1b29c"
   },
   "source": [
    "%%capture --no-stdout --no-display\n",
    "# 1. step\n",
    "pipe = Pipeline(\n",
    "    [\n",
    "        (\"fext_prev\", PreviousValuesExtractor()),\n",
    "        (\"fext_time\", TimeFeaturesExtractor()),\n",
    "        (\"scale_u\", UniversalScaler(scaler=MinMaxScaler())),\n",
    "    ]\n",
    ")\n",
    "\n",
    "# 2. step\n",
    "pipe_eval = PipelineEvaluator(\n",
    "    labeler=NextColorLabeler(),\n",
    "    splitter=TrainTestSplitter(),\n",
    "    pipeline=pipe,\n",
    "    model=SVC(),\n",
    "    evaluator=ClassificationEvaluator(),\n",
    ")\n",
    "# 3. step\n",
    "result = pipe_eval.run(data=data)"
   ],
   "execution_count": 4,
   "outputs": [
    {
     "output_type": "stream",
     "name": "stdout",
     "text": [
      "09:41:24.034 Labeling data\n",
      "09:41:24.036 Splitting data\n",
      "09:41:24.039 Fitting pipeline\n",
      "09:41:24.094 Applying pipeline transformations\n",
      "09:41:24.153 \tOriginal shape:\t\t(7500, 19); \n",
      "\t\tshape after removing NaNs: (7499, 19).\n",
      "09:41:24.160 \tOriginal shape:\t\t(2500, 19); \n",
      "\t\tshape after removing NaNs: (2499, 19).\n",
      "09:41:24.161 Fitting model\n",
      "09:41:27.745 Predicting\n",
      "09:41:28.564 Evaluating predictions\n",
      "[[1173   29]\n",
      " [1264   33]] \n",
      " 48.25930372148859 % accuracy\n",
      " 53.2258064516129 % precision of 1 classes\n",
      " 2.5443330763299925 % recall of 1 classes\n",
      "\n",
      "              precision    recall  f1-score   support\n",
      "\n",
      "           0       0.48      0.98      0.64      1202\n",
      "           1       0.53      0.03      0.05      1297\n",
      "\n",
      "    accuracy                           0.48      2499\n",
      "   macro avg       0.51      0.50      0.35      2499\n",
      "weighted avg       0.51      0.48      0.34      2499\n",
      "\n"
     ]
    }
   ]
  },
  {
   "cell_type": "markdown",
   "metadata": {
    "id": "bFYIRFFedzce"
   },
   "source": [
    "## Run Pipeling with Evaluation and Feature Reduction\n",
    "In this example, we use _feature selection_ for reduction of number of features. Half of the features remains (because of `number=0.5`).\n",
    "\n",
    "For the evaluation, we use the _UniversalEvaluator_ in this case."
   ]
  },
  {
   "cell_type": "code",
   "metadata": {
    "colab": {
     "base_uri": "https://localhost:8080/"
    },
    "id": "jqekz5tLdzIr",
    "executionInfo": {
     "status": "ok",
     "timestamp": 1634982100551,
     "user_tz": -120,
     "elapsed": 11505,
     "user": {
      "displayName": "Jakub Ryšavý",
      "photoUrl": "https://lh3.googleusercontent.com/a/default-user=s64",
      "userId": "02810881337712816514"
     }
    },
    "outputId": "cba00da7-bf75-4c56-a45e-7c7a3d9fd263"
   },
   "source": [
    "%%capture --no-stdout --no-display\n",
    "from sklearn.metrics import accuracy_score, roc_auc_score, precision_score, recall_score\n",
    "\n",
    "from seqrep.feature_engineering import TAExtractor\n",
    "from seqrep.feature_reduction import UnivariateFeatureSelector\n",
    "from seqrep.evaluation import UniversalEvaluator\n",
    "\n",
    "# 1. step\n",
    "pipe = Pipeline(\n",
    "    [\n",
    "        (\"fext_prev\", PreviousValuesExtractor()),\n",
    "        (\"fext_time\", TimeFeaturesExtractor()),\n",
    "        (\"fext_ta\", TAExtractor(all_features=True)),\n",
    "        (\"scale_u\", UniversalScaler(scaler=MinMaxScaler())),\n",
    "    ]\n",
    ")\n",
    "evaluator = UniversalEvaluator(\n",
    "    metrics=[accuracy_score, roc_auc_score, precision_score, recall_score]\n",
    ")\n",
    "# 2. step\n",
    "pipe_eval = PipelineEvaluator(\n",
    "    labeler=NextColorLabeler(),\n",
    "    splitter=TrainTestSplitter(),\n",
    "    pipeline=pipe,\n",
    "    feature_reductor=UnivariateFeatureSelector(number=0.5),\n",
    "    model=SVC(),\n",
    "    evaluator=evaluator,\n",
    ")\n",
    "# 3. step\n",
    "result = pipe_eval.run(data=data)"
   ],
   "execution_count": 5,
   "outputs": [
    {
     "output_type": "stream",
     "name": "stdout",
     "text": [
      "09:41:28.610 Labeling data\n",
      "09:41:28.612 Splitting data\n",
      "09:41:28.614 Fitting pipeline\n",
      "09:41:31.658 Applying pipeline transformations\n",
      "09:41:32.814 \tOriginal shape:\t\t(7500, 102); \n",
      "\t\tshape after removing NaNs: (7425, 100).\n",
      "09:41:32.820 \tOriginal shape:\t\t(2500, 102); \n",
      "\t\tshape after removing NaNs: (2425, 100).\n",
      "09:41:32.821 Applying feature reduction\n",
      "09:41:32.838 Fitting model\n",
      "09:41:38.628 Predicting\n",
      "09:41:40.170 Evaluating predictions\n",
      "accuracy_score:\n",
      "\t0.48206185567010307\n",
      "roc_auc_score:\n",
      "\t0.5\n",
      "precision_score:\n",
      "\t0.0\n",
      "recall_score:\n",
      "\t0.0\n"
     ]
    }
   ]
  }
 ]
}